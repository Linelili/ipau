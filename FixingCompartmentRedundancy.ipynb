{
 "cells": [
  {
   "cell_type": "markdown",
   "metadata": {},
   "source": [
    "The goal of this script is to eliminate compartment redundancy. Right now, there are 4 compartments: c, e, cytosol, and extracellular. We need to cut this down to just c and e so that the model can better account for the flow of metabolites into and out of the cell. "
   ]
  },
  {
   "cell_type": "code",
   "execution_count": 1,
   "metadata": {},
   "outputs": [],
   "source": [
    "# Initialization:\n",
    "import cobra\n",
    "import cobra.test\n",
    "from cobra.flux_analysis import (single_gene_deletion)\n",
    "import os\n",
    "from os.path import join\n",
    "import pandas\n",
    "from time import time\n",
    "import csv\n",
    "\n",
    "# Load LJD functions which includes changeMedia_PA_LJD(model, media)\n",
    "from LJD_Functions import *\n",
    "\n",
    "# Had to install libsbml to load an xml file\n",
    "# pip install python-libsbml in Python/Scripts folder\n",
    "# website: http://sbml.org/Software/libSBML/Downloading_libSBML#Using_pip_from_PyPI\n",
    "import libsbml\n",
    "\n",
    "# Other packages\n",
    "from copy import *\n",
    "import scipy"
   ]
  },
  {
   "cell_type": "code",
   "execution_count": 6,
   "metadata": {},
   "outputs": [],
   "source": [
    "# Load the model \n",
    "model_start = cobra.io.read_sbml_model('iPAU.xml')"
   ]
  },
  {
   "cell_type": "code",
   "execution_count": null,
   "metadata": {},
   "outputs": [],
   "source": [
    "# See compartments "
   ]
  },
  {
   "cell_type": "code",
   "execution_count": 5,
   "metadata": {},
   "outputs": [
    {
     "name": "stderr",
     "output_type": "stream",
     "text": [
      "There is an `e` compartment but it does not look like it is the actual external compartment.\n"
     ]
    },
    {
     "name": "stdout",
     "output_type": "stream",
     "text": [
      "LB 16.51651595130235\n"
     ]
    }
   ],
   "source": [
    "# Change media to LB\n",
    "model_end = changeMedia_PA_LJD(model_start, 1) #change model name here\n",
    "# Check that model is actually on LB\n",
    "sol_LB = model_end.optimize()\n",
    "print('LB', sol_LB.objective_value)"
   ]
  },
  {
   "cell_type": "code",
   "execution_count": null,
   "metadata": {},
   "outputs": [],
   "source": [
    "# Export the model as xml and yml\n",
    "#cobra.io.write_sbml_model(model_end, \"iPAU.xml\")\n",
    "#cobra.io.save_yaml_model(model_end, \"iPAU.yml\")"
   ]
  }
 ],
 "metadata": {
  "kernelspec": {
   "display_name": "Python 3",
   "language": "python",
   "name": "python3"
  },
  "language_info": {
   "codemirror_mode": {
    "name": "ipython",
    "version": 3
   },
   "file_extension": ".py",
   "mimetype": "text/x-python",
   "name": "python",
   "nbconvert_exporter": "python",
   "pygments_lexer": "ipython3",
   "version": "3.6.7"
  }
 },
 "nbformat": 4,
 "nbformat_minor": 2
}
