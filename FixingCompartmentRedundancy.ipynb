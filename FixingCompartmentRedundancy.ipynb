{
 "cells": [
  {
   "cell_type": "markdown",
   "metadata": {},
   "source": [
    "The goal of this script is to eliminate compartment redundancy. Right now, there are 4 compartments: c, e, cytosol, and extracellular. We need to cut this down to just c and e so that the model can better account for the flow of metabolites into and out of the cell. "
   ]
  },
  {
   "cell_type": "code",
   "execution_count": 1,
   "metadata": {},
   "outputs": [],
   "source": [
    "# Initialization:\n",
    "import cobra\n",
    "import cobra.test\n",
    "from cobra.flux_analysis import (single_gene_deletion)\n",
    "import os\n",
    "from os.path import join\n",
    "import pandas\n",
    "from time import time\n",
    "import csv\n",
    "\n",
    "# Load LJD functions which includes changeMedia_PA_LJD(model, media)\n",
    "from LJD_Functions import *\n",
    "\n",
    "# Had to install libsbml to load an xml file\n",
    "# pip install python-libsbml in Python/Scripts folder\n",
    "# website: http://sbml.org/Software/libSBML/Downloading_libSBML#Using_pip_from_PyPI\n",
    "import libsbml\n",
    "\n",
    "# Other packages\n",
    "from copy import *\n",
    "import scipy"
   ]
  },
  {
   "cell_type": "code",
   "execution_count": 2,
   "metadata": {},
   "outputs": [],
   "source": [
    "# Load the model \n",
    "model_start = cobra.io.read_sbml_model('iPAU.xml')"
   ]
  },
  {
   "cell_type": "code",
   "execution_count": 3,
   "metadata": {},
   "outputs": [
    {
     "name": "stdout",
     "output_type": "stream",
     "text": [
      "{'cytosol': 'default', 'c': 'cytosol', 'extracellular': 'default', 'e': 'extracellular space'}\n",
      "c 413\n",
      "e 14\n",
      "cytosol 681\n",
      "extracellular 187\n",
      "total 1295 1295\n"
     ]
    }
   ],
   "source": [
    "# See compartments \n",
    "print(model_start.compartments)\n",
    "e = 0\n",
    "c = 0\n",
    "cy = 0\n",
    "ex = 0\n",
    "for i in range(0, len(model_start.metabolites)):\n",
    "    if model_start.metabolites[i].compartment == 'e':\n",
    "        e = e + 1\n",
    "    elif model_start.metabolites[i].compartment == 'c':\n",
    "        c = c + 1\n",
    "    elif model_start.metabolites[i].compartment == 'cytosol':\n",
    "        cy = cy + 1\n",
    "    elif model_start.metabolites[i].compartment == 'extracellular':\n",
    "        ex = ex + 1\n",
    "    else:\n",
    "        print('other compartment', model_start.metabolites[i].compartment)\n",
    "print('c', c)\n",
    "print('e', e)\n",
    "print('cytosol',cy)\n",
    "print('extracellular',ex)\n",
    "print('total', c+e+ex+cy, len(model_start.metabolites))\n",
    "\n",
    "# Most of the metabolites seem to fall withing the default cytosol and extracellular compartments. This is also consistent with\n",
    "# cobrapy so I will make them the default compartments. Especially since e = extracellular space...\n"
   ]
  },
  {
   "cell_type": "code",
   "execution_count": 4,
   "metadata": {},
   "outputs": [
    {
     "name": "stderr",
     "output_type": "stream",
     "text": [
      "There is an `e` compartment but it does not look like it is the actual external compartment.\n"
     ]
    },
    {
     "name": "stdout",
     "output_type": "stream",
     "text": [
      "LB 16.51651595130235\n"
     ]
    }
   ],
   "source": [
    "# Change media to LB\n",
    "model_end = changeMedia_PA_LJD(model_start, 1) #change model name here\n",
    "# Check that model is actually on LB\n",
    "sol_LB = model_end.optimize()\n",
    "print('LB', sol_LB.objective_value)"
   ]
  },
  {
   "cell_type": "code",
   "execution_count": 5,
   "metadata": {},
   "outputs": [
    {
     "name": "stdout",
     "output_type": "stream",
     "text": [
      "c 0\n",
      "e 0\n",
      "cytosol 1094\n",
      "extracellular 201\n",
      "other 0\n",
      "total 1295 1295\n",
      "{'cytosol': 'default', 'extracellular': 'default'}\n"
     ]
    }
   ],
   "source": [
    "# Try to change the compartment of a metabolite...\n",
    "for x in range(0,len(model_end.metabolites)):\n",
    "    if model_end.metabolites[x].compartment == 'e':\n",
    "        model_end.metabolites[x].compartment = 'extracellular'\n",
    "    elif model_end.metabolites[x].compartment == 'c':\n",
    "        model_end.metabolites[x].compartment = 'cytosol'\n",
    "\n",
    "# Check that this worked\n",
    "e = 0\n",
    "c = 0\n",
    "cy = 0\n",
    "ex = 0 \n",
    "other = 0\n",
    "for i in range(0, len(model_end.metabolites)):\n",
    "    if model_end.metabolites[i].compartment == 'e':\n",
    "        e = e + 1\n",
    "    elif model_end.metabolites[i].compartment == 'c':\n",
    "        c = c + 1\n",
    "    elif model_end.metabolites[i].compartment == 'cytosol':\n",
    "        cy = cy + 1\n",
    "    elif model_end.metabolites[i].compartment == 'extracellular':\n",
    "        ex = ex + 1\n",
    "    else:\n",
    "        other = other + 1\n",
    "print('c', c)\n",
    "print('e', e)\n",
    "print('cytosol',cy)\n",
    "print('extracellular',ex)\n",
    "print('other',other)\n",
    "print('total', c+e+ex+cy+other, len(model_end.metabolites))\n",
    "print(model_end.compartments)\n"
   ]
  },
  {
   "cell_type": "code",
   "execution_count": null,
   "metadata": {},
   "outputs": [],
   "source": [
    "sol_LB = model_end.optimize()\n",
    "print('LB', sol_LB.objective_value)"
   ]
  },
  {
   "cell_type": "code",
   "execution_count": null,
   "metadata": {},
   "outputs": [],
   "source": [
    "# Export the model as xml and yml\n",
    "cobra.io.write_sbml_model(model_end, \"iPAU.xml\")\n",
    "cobra.io.save_yaml_model(model_end, \"iPAU.yml\")"
   ]
  }
 ],
 "metadata": {
  "kernelspec": {
   "display_name": "Python 3",
   "language": "python",
   "name": "python3"
  },
  "language_info": {
   "codemirror_mode": {
    "name": "ipython",
    "version": 3
   },
   "file_extension": ".py",
   "mimetype": "text/x-python",
   "name": "python",
   "nbconvert_exporter": "python",
   "pygments_lexer": "ipython3",
   "version": "3.6.7"
  }
 },
 "nbformat": 4,
 "nbformat_minor": 2
}
