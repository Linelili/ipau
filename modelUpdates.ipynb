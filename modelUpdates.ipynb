{
 "cells": [
  {
   "cell_type": "code",
   "execution_count": 1,
   "metadata": {},
   "outputs": [],
   "source": [
    "# Initialization:\n",
    "import cobra\n",
    "import cobra.test\n",
    "from cobra.flux_analysis import (single_gene_deletion)\n",
    "import os\n",
    "from os.path import join\n",
    "import pandas\n",
    "from time import time\n",
    "import csv\n",
    "\n",
    "# Load LJD functions which includes changeMedia_PA_LJD(model, media)\n",
    "from LJD_Functions import *\n",
    "\n",
    "# Had to install libsbml to load an xml file\n",
    "# pip install python-libsbml in Python/Scripts folder\n",
    "# website: http://sbml.org/Software/libSBML/Downloading_libSBML#Using_pip_from_PyPI\n",
    "import libsbml\n",
    "\n",
    "# Other packages\n",
    "from copy import *\n",
    "import scipy\n"
   ]
  },
  {
   "cell_type": "code",
   "execution_count": 3,
   "metadata": {},
   "outputs": [],
   "source": [
    "# Load the model from Alina\n",
    "model_start = cobra.io.read_sbml_model('iPAU_renz_updated.xml')"
   ]
  },
  {
   "cell_type": "code",
   "execution_count": 4,
   "metadata": {
    "scrolled": true
   },
   "outputs": [
    {
     "name": "stderr",
     "output_type": "stream",
     "text": [
      "There is an `e` compartment but it does not look like it is the actual external compartment.\n"
     ]
    },
    {
     "name": "stdout",
     "output_type": "stream",
     "text": [
      "all exchange bounds set to [0,1000]\n",
      "no media 1.6315569623170383e-16\n"
     ]
    },
    {
     "name": "stderr",
     "output_type": "stream",
     "text": [
      "There is an `e` compartment but it does not look like it is the actual external compartment.\n"
     ]
    },
    {
     "name": "stdout",
     "output_type": "stream",
     "text": [
      "LB 16.51651595130235\n"
     ]
    },
    {
     "name": "stderr",
     "output_type": "stream",
     "text": [
      "There is an `e` compartment but it does not look like it is the actual external compartment.\n"
     ]
    },
    {
     "name": "stdout",
     "output_type": "stream",
     "text": [
      "SCFM 18.958087874537757\n"
     ]
    },
    {
     "name": "stderr",
     "output_type": "stream",
     "text": [
      "There is an `e` compartment but it does not look like it is the actual external compartment.\n"
     ]
    },
    {
     "name": "stdout",
     "output_type": "stream",
     "text": [
      "minimal with succinate 0.8302451031411117\n"
     ]
    }
   ],
   "source": [
    "# Check change media function \n",
    "# They appear to work correctly. Values are slightly off iPau1129 probably due to reactions Alina added\n",
    "\n",
    "# No media\n",
    "model_noMedia = changeMedia_PA_LJD(model_start, 0)\n",
    "sol_noMedia = model_noMedia.optimize()\n",
    "print('no media', sol_noMedia.objective_value)\n",
    "\n",
    "# LB Media\n",
    "model_LB = changeMedia_PA_LJD(model_start, 1)\n",
    "sol_LB = model_LB.optimize()\n",
    "print('LB', sol_LB.objective_value)\n",
    "\n",
    "# SCFM\n",
    "model_SCFM = changeMedia_PA_LJD(model_start, 2)\n",
    "sol_SCFM = model_SCFM.optimize()\n",
    "print('SCFM', sol_SCFM.objective_value)\n",
    "\n",
    "# Minimal + Succinate\n",
    "model_MM_succ = changeMedia_PA_LJD(model_start, 3, ['EX_cpd00036_e'])\n",
    "sol_MM_succ = model_MM_succ.optimize()\n",
    "print('minimal with succinate', sol_MM_succ.objective_value)\n",
    "\n"
   ]
  },
  {
   "cell_type": "code",
   "execution_count": 5,
   "metadata": {},
   "outputs": [
    {
     "name": "stderr",
     "output_type": "stream",
     "text": [
      "There is an `e` compartment but it does not look like it is the actual external compartment.\n"
     ]
    },
    {
     "name": "stdout",
     "output_type": "stream",
     "text": [
      "all exchange bounds set to [0,1000]\n"
     ]
    }
   ],
   "source": [
    "# Quick changes 12/13/18\n",
    "\n",
    "# Make sure all exchanges have bounds [0,1000]\n",
    "model_end = changeMedia_PA_LJD(model_start, 0)\n",
    "\n",
    "# Turn off all reactions added by Alina temporarily by changing bounds to 0\n",
    "\n",
    "rxns_AR = ['rxn05964',\n",
    "'rxn06079',\n",
    "'rxn06087',\n",
    "'rxn05901',\n",
    "'rxn06140',\n",
    "'rxn06043',\n",
    "'rxn04684',\n",
    "'rxn00538',\n",
    "'rxn05829',\n",
    "'rxn05824',\n",
    "'rxn00182',\n",
    "'rxn02749',\n",
    "'rxn02751',\n",
    "'rxn00735',\n",
    "'rxn03062',\n",
    "'rxn01208',\n",
    "'rxn03436',\n",
    "'rxn03435',\n",
    "'rxn02187',\n",
    "'rxn03068',\n",
    "'rxn03437',\n",
    "'rxn00804',\n",
    "'rxn01573',\n",
    "'rxn00904']\n",
    "\n",
    "# Eventually reset these\n",
    "rxn_AR_bounds = [[0,1000],\n",
    "[0,1000],\n",
    "[0,1000],\n",
    "[0,1000],\n",
    "[0,1000],\n",
    "[0,1000],\n",
    "[0,1000],\n",
    "[0,1000],\n",
    "[0,1000],\n",
    "[0,1000],\n",
    "[-1000,1000],\n",
    "[0,1000],\n",
    "[0,1000],\n",
    "[0,1000],\n",
    "[-1000,1000],\n",
    "[0,1000],\n",
    "[-1000,1000],\n",
    "[-1000,1000],\n",
    "[-1000,1000],\n",
    "[-1000,1000],\n",
    "[0,1000],\n",
    "[-1000,1000],\n",
    "[0,1000],\n",
    "[-1000,1000]]\n",
    "\n",
    "for r in model_end.reactions:\n",
    "    if r.id in rxns_AR:\n",
    "        r.bounds = [0,0]\n"
   ]
  },
  {
   "cell_type": "code",
   "execution_count": 6,
   "metadata": {},
   "outputs": [
    {
     "name": "stderr",
     "output_type": "stream",
     "text": [
      "There is an `e` compartment but it does not look like it is the actual external compartment.\n"
     ]
    },
    {
     "name": "stdout",
     "output_type": "stream",
     "text": [
      "all exchange bounds set to [0,1000]\n",
      "no media 1.823953446194033e-16\n"
     ]
    },
    {
     "name": "stderr",
     "output_type": "stream",
     "text": [
      "There is an `e` compartment but it does not look like it is the actual external compartment.\n"
     ]
    },
    {
     "name": "stdout",
     "output_type": "stream",
     "text": [
      "LB 15.729762115657628\n"
     ]
    },
    {
     "name": "stderr",
     "output_type": "stream",
     "text": [
      "There is an `e` compartment but it does not look like it is the actual external compartment.\n"
     ]
    },
    {
     "name": "stdout",
     "output_type": "stream",
     "text": [
      "SCFM 15.508373240531986\n"
     ]
    },
    {
     "name": "stderr",
     "output_type": "stream",
     "text": [
      "There is an `e` compartment but it does not look like it is the actual external compartment.\n"
     ]
    },
    {
     "name": "stdout",
     "output_type": "stream",
     "text": [
      "minimal with succinate 0.7802886729466981\n"
     ]
    }
   ],
   "source": [
    "# Turning the bounds off of Alina's reactions restores the growth to iPAU1129 levels across media conditions\n",
    "\n",
    "# No media\n",
    "model_noMedia = changeMedia_PA_LJD(model_end, 0)\n",
    "sol_noMedia = model_noMedia.optimize()\n",
    "print('no media', sol_noMedia.objective_value)\n",
    "\n",
    "# LB Media\n",
    "model_LB = changeMedia_PA_LJD(model_end, 1)\n",
    "sol_LB = model_LB.optimize()\n",
    "print('LB', sol_LB.objective_value)\n",
    "\n",
    "# SCFM\n",
    "model_SCFM = changeMedia_PA_LJD(model_end, 2)\n",
    "sol_SCFM = model_SCFM.optimize()\n",
    "print('SCFM', sol_SCFM.objective_value)\n",
    "\n",
    "# Minimal + Succinate\n",
    "model_MM_succ = changeMedia_PA_LJD(model_end, 3, ['EX_cpd00036_e'])\n",
    "sol_MM_succ = model_MM_succ.optimize()\n",
    "print('minimal with succinate', sol_MM_succ.objective_value)\n",
    "\n"
   ]
  },
  {
   "cell_type": "code",
   "execution_count": 7,
   "metadata": {},
   "outputs": [
    {
     "ename": "IndexError",
     "evalue": "list index out of range",
     "output_type": "error",
     "traceback": [
      "\u001b[0;31m---------------------------------------------------------------------------\u001b[0m",
      "\u001b[0;31mIndexError\u001b[0m                                Traceback (most recent call last)",
      "\u001b[0;32m<ipython-input-7-fbb3ef165c10>\u001b[0m in \u001b[0;36m<module>\u001b[0;34m\u001b[0m\n\u001b[1;32m      1\u001b[0m \u001b[0;31m# Turn exchange reactions back on for Alina's model\u001b[0m\u001b[0;34m\u001b[0m\u001b[0;34m\u001b[0m\u001b[0;34m\u001b[0m\u001b[0m\n\u001b[1;32m      2\u001b[0m \u001b[0;32mfor\u001b[0m \u001b[0mrxns\u001b[0m \u001b[0;32min\u001b[0m \u001b[0mrxns_AR\u001b[0m\u001b[0;34m:\u001b[0m\u001b[0;34m\u001b[0m\u001b[0;34m\u001b[0m\u001b[0m\n\u001b[0;32m----> 3\u001b[0;31m     \u001b[0mmodel_end\u001b[0m\u001b[0;34m.\u001b[0m\u001b[0mreactions\u001b[0m\u001b[0;34m.\u001b[0m\u001b[0mget_by_id\u001b[0m\u001b[0;34m(\u001b[0m\u001b[0mrxns\u001b[0m\u001b[0;34m)\u001b[0m\u001b[0;34m.\u001b[0m\u001b[0mbounds\u001b[0m \u001b[0;34m=\u001b[0m \u001b[0mrxn_AR_bounds\u001b[0m\u001b[0;34m[\u001b[0m\u001b[0mmodel_end\u001b[0m\u001b[0;34m.\u001b[0m\u001b[0mreactions\u001b[0m\u001b[0;34m.\u001b[0m\u001b[0mindex\u001b[0m\u001b[0;34m(\u001b[0m\u001b[0mrxns\u001b[0m\u001b[0;34m)\u001b[0m\u001b[0;34m]\u001b[0m\u001b[0;34m\u001b[0m\u001b[0;34m\u001b[0m\u001b[0m\n\u001b[0m\u001b[1;32m      4\u001b[0m     \u001b[0mprint\u001b[0m\u001b[0;34m(\u001b[0m\u001b[0mrxns\u001b[0m\u001b[0;34m,\u001b[0m \u001b[0mmodel_end\u001b[0m\u001b[0;34m.\u001b[0m\u001b[0mreactions\u001b[0m\u001b[0;34m.\u001b[0m\u001b[0mget_by_id\u001b[0m\u001b[0;34m(\u001b[0m\u001b[0mrxns\u001b[0m\u001b[0;34m)\u001b[0m\u001b[0;34m.\u001b[0m\u001b[0mbounds\u001b[0m\u001b[0;34m)\u001b[0m\u001b[0;34m\u001b[0m\u001b[0;34m\u001b[0m\u001b[0m\n",
      "\u001b[0;31mIndexError\u001b[0m: list index out of range"
     ]
    }
   ],
   "source": [
    "# Turn exchange reactions back on for Alina's model\n",
    "for rxns in rxns_AR:\n",
    "    model_end.reactions.get_by_id(rxns).bounds = rxn_AR_bounds[model_end.reactions.index(rxns)]\n",
    "    print(rxns, model_end.reactions.get_by_id(rxns).bounds)"
   ]
  },
  {
   "cell_type": "code",
   "execution_count": 8,
   "metadata": {},
   "outputs": [],
   "source": [
    "# Export model\n",
    "cobra.io.write_sbml_model(model_end, \"../iPAU.xml\")\n",
    "\n"
   ]
  },
  {
   "cell_type": "code",
   "execution_count": null,
   "metadata": {},
   "outputs": [],
   "source": []
  }
 ],
 "metadata": {
  "kernelspec": {
   "display_name": "Python 3",
   "language": "python",
   "name": "python3"
  },
  "language_info": {
   "codemirror_mode": {
    "name": "ipython",
    "version": 3
   },
   "file_extension": ".py",
   "mimetype": "text/x-python",
   "name": "python",
   "nbconvert_exporter": "python",
   "pygments_lexer": "ipython3",
   "version": "3.6.7"
  }
 },
 "nbformat": 4,
 "nbformat_minor": 2
}
