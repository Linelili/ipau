{
 "cells": [
  {
   "cell_type": "code",
   "execution_count": 15,
   "metadata": {},
   "outputs": [],
   "source": [
    "import cobra\n",
    "import pandas as pd"
   ]
  },
  {
   "cell_type": "code",
   "execution_count": 56,
   "metadata": {},
   "outputs": [],
   "source": [
    "PA = cobra.io.read_sbml_model('models/iPAU_V8.xml')"
   ]
  },
  {
   "cell_type": "code",
   "execution_count": 47,
   "metadata": {},
   "outputs": [
    {
     "name": "stdout",
     "output_type": "stream",
     "text": [
      "454 454 454\n"
     ]
    }
   ],
   "source": [
    "reactions = []\n",
    "charge = []\n",
    "mass = []\n",
    "for react in PA.reactions:\n",
    "    result = react.check_mass_balance()\n",
    "    if len(result) == 0:\n",
    "        continue\n",
    "    else: \n",
    "        reactions.append(react.id)\n",
    "        masses = {}\n",
    "        for key in result.keys():\n",
    "            if key == 'charge':\n",
    "                charge.append(result['charge'])\n",
    "            else:\n",
    "                masses[key] = result[key]\n",
    "        if 'charge' not in result.keys():\n",
    "            charge.append('')\n",
    "        mass.append(masses)\n",
    "print(len(reactions), len(charge), len(mass))"
   ]
  },
  {
   "cell_type": "code",
   "execution_count": 49,
   "metadata": {},
   "outputs": [
    {
     "data": {
      "text/html": [
       "<div>\n",
       "<style scoped>\n",
       "    .dataframe tbody tr th:only-of-type {\n",
       "        vertical-align: middle;\n",
       "    }\n",
       "\n",
       "    .dataframe tbody tr th {\n",
       "        vertical-align: top;\n",
       "    }\n",
       "\n",
       "    .dataframe thead th {\n",
       "        text-align: right;\n",
       "    }\n",
       "</style>\n",
       "<table border=\"1\" class=\"dataframe\">\n",
       "  <thead>\n",
       "    <tr style=\"text-align: right;\">\n",
       "      <th></th>\n",
       "      <th>Reactions</th>\n",
       "      <th>Charge</th>\n",
       "      <th>Masses</th>\n",
       "    </tr>\n",
       "  </thead>\n",
       "  <tbody>\n",
       "    <tr>\n",
       "      <th>0</th>\n",
       "      <td>rxn00501</td>\n",
       "      <td>1</td>\n",
       "      <td>{'H': 1.0}</td>\n",
       "    </tr>\n",
       "    <tr>\n",
       "      <th>1</th>\n",
       "      <td>rxn13812</td>\n",
       "      <td>-1</td>\n",
       "      <td>{'H': -1.0}</td>\n",
       "    </tr>\n",
       "    <tr>\n",
       "      <th>2</th>\n",
       "      <td>rxn13808</td>\n",
       "      <td>2</td>\n",
       "      <td>{}</td>\n",
       "    </tr>\n",
       "    <tr>\n",
       "      <th>3</th>\n",
       "      <td>rxn10122</td>\n",
       "      <td>-9</td>\n",
       "      <td>{'H': -9.0}</td>\n",
       "    </tr>\n",
       "    <tr>\n",
       "      <th>4</th>\n",
       "      <td>rxn00671</td>\n",
       "      <td>1</td>\n",
       "      <td>{'H': 1.0}</td>\n",
       "    </tr>\n",
       "    <tr>\n",
       "      <th>5</th>\n",
       "      <td>rxn13844</td>\n",
       "      <td></td>\n",
       "      <td>{'R': -1.0, 'S': -1.0, 'X': 1.0}</td>\n",
       "    </tr>\n",
       "    <tr>\n",
       "      <th>6</th>\n",
       "      <td>rxn13839</td>\n",
       "      <td></td>\n",
       "      <td>{'H': -2.0}</td>\n",
       "    </tr>\n",
       "    <tr>\n",
       "      <th>7</th>\n",
       "      <td>rJB00277</td>\n",
       "      <td></td>\n",
       "      <td>{'H': 2.0}</td>\n",
       "    </tr>\n",
       "    <tr>\n",
       "      <th>8</th>\n",
       "      <td>rxn08094</td>\n",
       "      <td>1</td>\n",
       "      <td>{'H': 1.0}</td>\n",
       "    </tr>\n",
       "    <tr>\n",
       "      <th>9</th>\n",
       "      <td>rxn00154</td>\n",
       "      <td>1</td>\n",
       "      <td>{'H': 1.0}</td>\n",
       "    </tr>\n",
       "  </tbody>\n",
       "</table>\n",
       "</div>"
      ],
      "text/plain": [
       "  Reactions Charge                            Masses\n",
       "0  rxn00501      1                        {'H': 1.0}\n",
       "1  rxn13812     -1                       {'H': -1.0}\n",
       "2  rxn13808      2                                {}\n",
       "3  rxn10122     -9                       {'H': -9.0}\n",
       "4  rxn00671      1                        {'H': 1.0}\n",
       "5  rxn13844         {'R': -1.0, 'S': -1.0, 'X': 1.0}\n",
       "6  rxn13839                              {'H': -2.0}\n",
       "7  rJB00277                               {'H': 2.0}\n",
       "8  rxn08094      1                        {'H': 1.0}\n",
       "9  rxn00154      1                        {'H': 1.0}"
      ]
     },
     "execution_count": 49,
     "metadata": {},
     "output_type": "execute_result"
    }
   ],
   "source": [
    "mass_charge_dict = {'Reactions': reactions, 'Charge': charge, 'Masses': mass}\n",
    "mass_charge = pd.DataFrame(mass_charge_dict)\n",
    "mass_charge.head(10)"
   ]
  },
  {
   "cell_type": "code",
   "execution_count": 57,
   "metadata": {},
   "outputs": [
    {
     "data": {
      "text/html": [
       "\n",
       "        <table>\n",
       "            <tr>\n",
       "                <td><strong>Reaction identifier</strong></td><td>rxn00501</td>\n",
       "            </tr><tr>\n",
       "                <td><strong>Name</strong></td><td>MMSAD3</td>\n",
       "            </tr><tr>\n",
       "                <td><strong>Memory address</strong></td>\n",
       "                <td>0x0132affafd0</td>\n",
       "            </tr><tr>\n",
       "                <td><strong>Stoichiometry</strong></td>\n",
       "                <td>\n",
       "                    <p style='text-align:right'>cpd00003_c + cpd00010_c + cpd00191_c <=> cpd00004_c + cpd00011_c + cpd00022_c</p>\n",
       "                    <p style='text-align:right'>NAD + CoA + 3-Oxopropanoate <=> NADH + CO2 + Acetyl-CoA</p>\n",
       "                </td>\n",
       "            </tr><tr>\n",
       "                <td><strong>GPR</strong></td><td>PA14_01600 or PA14_54620 or PA14_18120</td>\n",
       "            </tr><tr>\n",
       "                <td><strong>Lower bound</strong></td><td>-1000.0</td>\n",
       "            </tr><tr>\n",
       "                <td><strong>Upper bound</strong></td><td>1000.0</td>\n",
       "            </tr>\n",
       "        </table>\n",
       "        "
      ],
      "text/plain": [
       "<Reaction rxn00501 at 0x132affafd0>"
      ]
     },
     "execution_count": 57,
     "metadata": {},
     "output_type": "execute_result"
    }
   ],
   "source": [
    "r1 = PA.reactions.get_by_id('rxn00501')\n",
    "r1"
   ]
  },
  {
   "cell_type": "code",
   "execution_count": 77,
   "metadata": {},
   "outputs": [
    {
     "data": {
      "text/plain": [
       "'CO2'"
      ]
     },
     "execution_count": 77,
     "metadata": {},
     "output_type": "execute_result"
    }
   ],
   "source": [
    "PA.metabolites.get_by_id('cpd00011_c').formula"
   ]
  },
  {
   "cell_type": "code",
   "execution_count": 75,
   "metadata": {},
   "outputs": [],
   "source": [
    "PA.metabolites.get_by_id('cpd00003_c').formula = 'C21H28N7O14P2'\n",
    "PA.metabolites.get_by_id('cpd00004_c').formula = 'C21H29N7O14P2'\n",
    "PA.metabolites.get_by_id('cpd00191_c').formula = 'C3H4O3'\n",
    "PA.metabolites.get_by_id('cpd00010_c').formula = 'C21H36N7O16P3S'\n",
    "PA.metabolites.get_by_id('cpd00022_c').formula = 'C23H38N7O17P3S'"
   ]
  },
  {
   "cell_type": "code",
   "execution_count": 76,
   "metadata": {},
   "outputs": [
    {
     "data": {
      "text/plain": [
       "{'charge': 2.0}"
      ]
     },
     "execution_count": 76,
     "metadata": {},
     "output_type": "execute_result"
    }
   ],
   "source": [
    "r1.check_mass_balance()"
   ]
  },
  {
   "cell_type": "code",
   "execution_count": 63,
   "metadata": {},
   "outputs": [
    {
     "data": {
      "text/plain": [
       "{'charge': 2.0}"
      ]
     },
     "execution_count": 63,
     "metadata": {},
     "output_type": "execute_result"
    }
   ],
   "source": [
    "r1.add_metabolites({PA.metabolites.get_by_id('cpd00067_c'):1 })\n",
    "r1.check_mass_balance()"
   ]
  },
  {
   "cell_type": "markdown",
   "metadata": {},
   "source": [
    "----\n"
   ]
  },
  {
   "cell_type": "code",
   "execution_count": 79,
   "metadata": {},
   "outputs": [
    {
     "data": {
      "text/html": [
       "\n",
       "        <table>\n",
       "            <tr>\n",
       "                <td><strong>Reaction identifier</strong></td><td>rxn13812</td>\n",
       "            </tr><tr>\n",
       "                <td><strong>Name</strong></td><td>L-aspartate oxidase</td>\n",
       "            </tr><tr>\n",
       "                <td><strong>Memory address</strong></td>\n",
       "                <td>0x0132b001358</td>\n",
       "            </tr><tr>\n",
       "                <td><strong>Stoichiometry</strong></td>\n",
       "                <td>\n",
       "                    <p style='text-align:right'>cpd00015_c + cpd00041_c + cpd00095_c --> 2.0 cpd00001_c + cpd00009_c + cpd00067_c + cpd00982_c + cpd02333_c</p>\n",
       "                    <p style='text-align:right'>FAD + L-Aspartate + Glycerone-phosphate --> 2.0 H2O + Phosphate + H+ + FADH2 + Quinolinate</p>\n",
       "                </td>\n",
       "            </tr><tr>\n",
       "                <td><strong>GPR</strong></td><td>PA14_51330 and PA14_54450</td>\n",
       "            </tr><tr>\n",
       "                <td><strong>Lower bound</strong></td><td>0.0</td>\n",
       "            </tr><tr>\n",
       "                <td><strong>Upper bound</strong></td><td>1000.0</td>\n",
       "            </tr>\n",
       "        </table>\n",
       "        "
      ],
      "text/plain": [
       "<Reaction rxn13812 at 0x132b001358>"
      ]
     },
     "execution_count": 79,
     "metadata": {},
     "output_type": "execute_result"
    }
   ],
   "source": [
    "r2 = PA.reactions.get_by_id('rxn13812')\n",
    "r2"
   ]
  }
 ],
 "metadata": {
  "kernelspec": {
   "display_name": "Python 3",
   "language": "python",
   "name": "python3"
  },
  "language_info": {
   "codemirror_mode": {
    "name": "ipython",
    "version": 3
   },
   "file_extension": ".py",
   "mimetype": "text/x-python",
   "name": "python",
   "nbconvert_exporter": "python",
   "pygments_lexer": "ipython3",
   "version": "3.6.8"
  }
 },
 "nbformat": 4,
 "nbformat_minor": 2
}
