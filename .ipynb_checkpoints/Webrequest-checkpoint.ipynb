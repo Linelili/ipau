{
 "cells": [
  {
   "cell_type": "code",
   "execution_count": 1,
   "metadata": {},
   "outputs": [],
   "source": [
    "import requests"
   ]
  },
  {
   "cell_type": "markdown",
   "metadata": {},
   "source": [
    "## Information in single cell"
   ]
  },
  {
   "cell_type": "code",
   "execution_count": 42,
   "metadata": {},
   "outputs": [],
   "source": [
    "response = requests.get('http://bigg.ucsd.edu/universal/metabolites/atp')\n",
    "text = response.text\n",
    "text = text.split('\\n')"
   ]
  },
  {
   "cell_type": "code",
   "execution_count": 45,
   "metadata": {},
   "outputs": [
    {
     "name": "stdout",
     "output_type": "stream",
     "text": [
      "-4\n"
     ]
    }
   ],
   "source": [
    "index = -1\n",
    "for entry in text:\n",
    "    index += 1\n",
    "    if 'Charges' in entry:\n",
    "        break\n",
    "charge = text[index+1]\n",
    "charge = charge.strip()\n",
    "charge = charge[3:-4]\n",
    "print(charge)"
   ]
  },
  {
   "cell_type": "code",
   "execution_count": 46,
   "metadata": {},
   "outputs": [
    {
     "name": "stdout",
     "output_type": "stream",
     "text": [
      "C10H12N5O13P3\n"
     ]
    }
   ],
   "source": [
    "index = -1\n",
    "for entry in text:\n",
    "    index += 1\n",
    "    if 'Formulae' in entry:\n",
    "        break\n",
    "formula = text[index+1]\n",
    "formula = formula.strip()\n",
    "formula = formula[3:-4]\n",
    "print(formula)"
   ]
  },
  {
   "cell_type": "code",
   "execution_count": 50,
   "metadata": {},
   "outputs": [],
   "source": [
    "def get_info(metabolite): \n",
    "    response = requests.get('http://bigg.ucsd.edu/universal/metabolites/' + metabolite) \n",
    "    text = response.text\n",
    "    text = text.split('\\n')\n",
    "    \n",
    "    ##Charge\n",
    "    index = -1\n",
    "    for entry in text:\n",
    "        index += 1\n",
    "        if 'Charges' in entry:\n",
    "            \n",
    "            charge = text[index+1]\n",
    "            charge = charge.strip()\n",
    "            charge = charge[3:-4]\n",
    "            print(charge)\n",
    "        \n",
    "    \n",
    "    ###Formula\n",
    "    index = -1\n",
    "    for entry in text:\n",
    "        index += 1\n",
    "        if 'Formulae' in entry:\n",
    "            formula = text[index+1]\n",
    "            formula = formula.strip()\n",
    "            formula = formula[3:-4]\n",
    "            print(formula)"
   ]
  },
  {
   "cell_type": "code",
   "execution_count": 53,
   "metadata": {},
   "outputs": [
    {
     "name": "stdout",
     "output_type": "stream",
     "text": [
      "-2\n",
      "C19H35O7P1,C19H35O7P\n"
     ]
    }
   ],
   "source": [
    "get_info('1hdec9eg3p')"
   ]
  },
  {
   "cell_type": "code",
   "execution_count": null,
   "metadata": {},
   "outputs": [],
   "source": []
  }
 ],
 "metadata": {
  "kernelspec": {
   "display_name": "Python 3",
   "language": "python",
   "name": "python3"
  },
  "language_info": {
   "codemirror_mode": {
    "name": "ipython",
    "version": 3
   },
   "file_extension": ".py",
   "mimetype": "text/x-python",
   "name": "python",
   "nbconvert_exporter": "python",
   "pygments_lexer": "ipython3",
   "version": "3.6.8"
  }
 },
 "nbformat": 4,
 "nbformat_minor": 2
}
